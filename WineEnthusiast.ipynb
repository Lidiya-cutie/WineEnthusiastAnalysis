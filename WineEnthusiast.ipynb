{
  "cells": [
    {
      "cell_type": "markdown",
      "metadata": {
        "id": "view-in-github",
        "colab_type": "text"
      },
      "source": [
        "<a href=\"https://colab.research.google.com/github/Lidiya-cutie/WineEnthusiastAnalysis/blob/master/WineEnthusiast.ipynb\" target=\"_parent\"><img src=\"https://colab.research.google.com/assets/colab-badge.svg\" alt=\"Open In Colab\"/></a>"
      ]
    },
    {
      "cell_type": "markdown",
      "metadata": {
        "id": "pFGngmeWRzxq"
      },
      "source": [
        "# Bинные обзоры"
      ]
    },
    {
      "cell_type": "markdown",
      "source": [
        "+ country - страна-производитель вина\n",
        "+ description - подробное описание\n",
        "+ designation - название виноградника, где выращивают виноград для вина\n",
        "+ points - количество баллов, которое WineEnthusiast оценил вино по шкале от 1 до 100\n",
        "+ price - стоимость бутылки вина\n",
        "+ province - провинция или штат \n",
        "+ region_1 - винодельческий район в провинции или штате (например, Напа)\n",
        "+ region_2 - конкретный регион. Иногда в пределах винодельческой зоны указываются более конкретные регионы (например, Резерфорд в долине Напа), но это значение иногда может быть пустым.\n",
        "+ taster_name - имя дегустатора\n",
        "+ taster_twitter_handle - твиттер дегустатора\n",
        "+ title - название вина, который часто содержит годи др подробную информацию\n",
        "+ variety -  сорт винограда, из которого изготовлено вино (например, Пино Нуар).\n",
        "+ winery - винодельня, которая производила вино"
      ],
      "metadata": {
        "id": "TtsfFwIp9679"
      }
    },
    {
      "cell_type": "markdown",
      "metadata": {
        "id": "TS6TLKamRzxx"
      },
      "source": [
        "## Знакомство с данными "
      ]
    },
    {
      "cell_type": "code",
      "source": [
        "from google.colab import drive\n",
        "drive.mount('/content/drive')"
      ],
      "metadata": {
        "id": "h34-YMFZSQbU",
        "outputId": "43a83f43-0b63-4bfc-8da1-da948697e246",
        "colab": {
          "base_uri": "https://localhost:8080/"
        }
      },
      "execution_count": null,
      "outputs": [
        {
          "output_type": "stream",
          "name": "stdout",
          "text": [
            "Drive already mounted at /content/drive; to attempt to forcibly remount, call drive.mount(\"/content/drive\", force_remount=True).\n"
          ]
        }
      ]
    },
    {
      "cell_type": "code",
      "execution_count": null,
      "metadata": {
        "id": "bK-EKd3FRzxz"
      },
      "outputs": [],
      "source": [
        "# Импортируем необходимую библиотеку:\n",
        "import pandas as pd\n",
        "# Прочитаем наш файл с винными обзорами:\n",
        "data = pd.read_csv('/content/wine.csv')"
      ]
    },
    {
      "cell_type": "markdown",
      "source": [
        "Составим чек-лист всех этапов жизненного цикла модели машинного обучения для создания ИИ-сомелье. Подробно раскроем процесс разведывательного анализа данных с подэтапами."
      ],
      "metadata": {
        "id": "aNDvy2mW-VYR"
      }
    },
    {
      "cell_type": "markdown",
      "source": [
        "* Определение бизнес-проблемы\n",
        "* Сбор данных\n",
        "* Очистка данных от пропусков/выбросов/аномалий\n",
        "* Разведывательный анализ данных\n",
        "    + проектирование признаков (генерация из внешних источников данных, из признаков датасета)\n",
        "    + кодирование признаков\n",
        "    + проверка статистических гипотез\n",
        "    + отбор признаков\n",
        "* Разработка модели\n",
        "* Вывод модели в продакшн"
      ],
      "metadata": {
        "id": "m60KEIB2-eA1"
      }
    },
    {
      "cell_type": "markdown",
      "source": [
        "Для начала узнаем, сколько всего дегустаторов приняло участие в винных обзорах. Чтобы правильно подсчитать количество дегустаторов, воспользуйтесь функцией *nunique()* применительно к столбцу *'taster_name'*.."
      ],
      "metadata": {
        "id": "OXO17RMPUQUf"
      }
    },
    {
      "cell_type": "code",
      "source": [
        "data['taster_name'].nunique()\n",
        "# 19"
      ],
      "metadata": {
        "id": "37Yqrw7wUOjZ",
        "outputId": "7a0220f6-4495-4a33-c587-fec1d80e546e",
        "colab": {
          "base_uri": "https://localhost:8080/"
        }
      },
      "execution_count": null,
      "outputs": [
        {
          "output_type": "execute_result",
          "data": {
            "text/plain": [
              "19"
            ]
          },
          "metadata": {},
          "execution_count": 20
        }
      ]
    },
    {
      "cell_type": "markdown",
      "source": [
        "Узнаем, какова максимальная цена за бутылку в этом наборе данных. Для этого воспользуемся функцией *max()* применительно к столбцу *'price'*."
      ],
      "metadata": {
        "id": "bYrrNlEeVGwR"
      }
    },
    {
      "cell_type": "code",
      "source": [
        "data['price'].max()\n",
        "# 3300"
      ],
      "metadata": {
        "id": "dH2cOGKYWG8w",
        "outputId": "cff14de7-5b42-42dc-be13-ece25de8bfc6",
        "colab": {
          "base_uri": "https://localhost:8080/"
        }
      },
      "execution_count": null,
      "outputs": [
        {
          "output_type": "execute_result",
          "data": {
            "text/plain": [
              "3300.0"
            ]
          },
          "metadata": {},
          "execution_count": 21
        }
      ]
    },
    {
      "cell_type": "markdown",
      "source": [
        "Проанализируем представленный датасет и перечислим все числовые признаки через запятую."
      ],
      "metadata": {
        "id": "jljdOCpVWaYi"
      }
    },
    {
      "cell_type": "code",
      "source": [
        "data.describe()\n",
        "# points, price"
      ],
      "metadata": {
        "id": "tTSczS2iWjyf"
      },
      "execution_count": null,
      "outputs": []
    },
    {
      "cell_type": "code",
      "source": [
        "# построим распеределение всех возможных признаков быстрой просто визуализацией\n",
        "hist = data.hist()\n",
        "hist"
      ],
      "metadata": {
        "id": "SW-CU9Vz-xWx",
        "outputId": "64bb3ed6-cac7-4809-fb98-af12bc8190da",
        "colab": {
          "base_uri": "https://localhost:8080/",
          "height": 487
        }
      },
      "execution_count": null,
      "outputs": [
        {
          "output_type": "execute_result",
          "data": {
            "text/plain": [
              "array([[<Axes: title={'center': 'points'}>,\n",
              "        <Axes: title={'center': 'price'}>]], dtype=object)"
            ]
          },
          "metadata": {},
          "execution_count": 57
        },
        {
          "output_type": "display_data",
          "data": {
            "text/plain": [
              "<Figure size 640x480 with 2 Axes>"
            ],
            "image/png": "[encoded data removed]"
          },
          "metadata": {}
        }
      ]
    },
    {
      "cell_type": "markdown",
      "source": [
        "Проанализируем датасет на наличие дублирующихся винных обзоров. Если дублирующиеся записи есть, удалим их.\n",
        "Посмотримб сколько дублирующихся записей удалось обнаружить. Для этого воспользуемся duplicated().count() и data.drop_duplicates().count().max() и вычислим разницу."
      ],
      "metadata": {
        "id": "PLLk4pRqW0gB"
      }
    },
    {
      "cell_type": "code",
      "source": [
        "drop_count = data.duplicated().count() - data.drop_duplicates().count().max()\n",
        "print(f'Число найденных дубликатов: {drop_count}')\n",
        "# Число найденных дубликатов: 9983"
      ],
      "metadata": {
        "id": "r5_lCVHpYR02",
        "outputId": "1693249d-1de4-4365-df5e-c63d3b4d573c",
        "colab": {
          "base_uri": "https://localhost:8080/"
        }
      },
      "execution_count": null,
      "outputs": [
        {
          "output_type": "stream",
          "name": "stdout",
          "text": [
            "Число найденных дубликатов: 9983\n"
          ]
        }
      ]
    },
    {
      "cell_type": "markdown",
      "source": [
        "или другим способом"
      ],
      "metadata": {
        "id": "RKwJ51oo_KLs"
      }
    },
    {
      "cell_type": "code",
      "source": [
        "mask = data.duplicated(subset=data.columns) # маска для фильтрации\n",
        "data_duplicates = data[mask] # фильтруем наш датасет\n",
        "print(f'Число найденных дубликатов: {data_duplicates.shape[0]}')"
      ],
      "metadata": {
        "id": "H4ypGt4v_DYv",
        "outputId": "5d7d0808-1a56-463d-f686-36f17d172577",
        "colab": {
          "base_uri": "https://localhost:8080/"
        }
      },
      "execution_count": null,
      "outputs": [
        {
          "output_type": "stream",
          "name": "stdout",
          "text": [
            "Число найденных дубликатов: 9983\n"
          ]
        }
      ]
    },
    {
      "cell_type": "markdown",
      "source": [
        "Проверяем датасет на наличие пропусков в данных. Узнаем, в каких из представленных признаках были обнаружены пропуски"
      ],
      "metadata": {
        "id": "0n4SuhgUZiV7"
      }
    },
    {
      "cell_type": "code",
      "source": [
        "data.info()\n",
        "# designation, price, region_2, taster_twitter_handle - были обнаружены пропуски"
      ],
      "metadata": {
        "id": "3--O_kZBXZR7",
        "outputId": "42ec8402-67bf-4516-ba7e-b6bdc7f8587f",
        "colab": {
          "base_uri": "https://localhost:8080/"
        }
      },
      "execution_count": null,
      "outputs": [
        {
          "output_type": "stream",
          "name": "stdout",
          "text": [
            "<class 'pandas.core.frame.DataFrame'>\n",
            "RangeIndex: 129971 entries, 0 to 129970\n",
            "Data columns (total 13 columns):\n",
            " #   Column                 Non-Null Count   Dtype  \n",
            "---  ------                 --------------   -----  \n",
            " 0   country                129908 non-null  object \n",
            " 1   description            129971 non-null  object \n",
            " 2   designation            92506 non-null   object \n",
            " 3   points                 129971 non-null  int64  \n",
            " 4   price                  120975 non-null  float64\n",
            " 5   province               129908 non-null  object \n",
            " 6   region_1               108724 non-null  object \n",
            " 7   region_2               50511 non-null   object \n",
            " 8   taster_name            103727 non-null  object \n",
            " 9   taster_twitter_handle  98758 non-null   object \n",
            " 10  title                  129971 non-null  object \n",
            " 11  variety                129970 non-null  object \n",
            " 12  winery                 129971 non-null  object \n",
            "dtypes: float64(1), int64(1), object(11)\n",
            "memory usage: 12.9+ MB\n"
          ]
        }
      ]
    },
    {
      "cell_type": "markdown",
      "source": [
        "Обработаем пропущенные значения в наборе данных. Импортируем библиотеки, которые нам понадобятся (pandas для работы с данными, numpy для математических преобразований, matplotlib и seaborn для визуализации).\n",
        "* Если какой-то из признаков имеет более 30-40 % пропусков, лучше избавиться от него: его заполнение может привести к сильному искажению общего распределения, а удаление записей — к большой утрате данных.\n",
        "* Заполним данные с умом! Если в данных количественный признак, то использование нецелого числа в качестве константы является как минимум нелогичным.\n",
        "* Можно оставить пропуски как есть, просто заменив их на какой-то специальный символ. Например, для числовых неотрицательных признаков можно использовать число -1, а для категориальных — строку 'unknown'."
      ],
      "metadata": {
        "id": "N8F5ylcqc-b2"
      }
    },
    {
      "cell_type": "code",
      "source": [
        "import pandas as pd\n",
        "import numpy as np\n",
        "import matplotlib.pyplot as plt\n",
        "import seaborn as sns"
      ],
      "metadata": {
        "id": "jNpYrCgOdoCJ"
      },
      "execution_count": null,
      "outputs": []
    },
    {
      "cell_type": "markdown",
      "source": [
        "В библиотеке *pandas* специально для этого реализован метод *isnull()*. Этот метод возвращает новый *DataFrame*, в ячейках которого стоят булевы значения *True* и *False*. *True* ставится на месте, где ранее находилось значение *NaN*.\n",
        "\n",
        "Посмотрим на результат работы метода на нашей таблице:"
      ],
      "metadata": {
        "id": "hsLIysTKezpc"
      }
    },
    {
      "cell_type": "code",
      "source": [
        "data.isnull()\n",
        "# ячейки со значением True\n",
        "# ячейки, где стоит False, были изначально заполнены."
      ],
      "metadata": {
        "id": "ollOikNQfD1v",
        "outputId": "54c16358-4c48-439e-c28a-d93d132c6e10",
        "colab": {
          "base_uri": "https://localhost:8080/",
          "height": 488
        }
      },
      "execution_count": null,
      "outputs": [
        {
          "output_type": "execute_result",
          "data": {
            "text/plain": [
              "        country  description  designation  points  price  province  region_1  \\\n",
              "0         False        False        False   False   True     False     False   \n",
              "1         False        False        False   False  False     False      True   \n",
              "2         False        False         True   False  False     False     False   \n",
              "3         False        False        False   False  False     False     False   \n",
              "4         False        False        False   False  False     False     False   \n",
              "...         ...          ...          ...     ...    ...       ...       ...   \n",
              "129966    False        False        False   False  False     False      True   \n",
              "129967    False        False         True   False  False     False     False   \n",
              "129968    False        False        False   False  False     False     False   \n",
              "129969    False        False         True   False  False     False     False   \n",
              "129970    False        False        False   False  False     False     False   \n",
              "\n",
              "        region_2  taster_name  taster_twitter_handle  title  variety  winery  \n",
              "0           True        False                  False  False    False   False  \n",
              "1           True        False                  False  False    False   False  \n",
              "2          False        False                  False  False    False   False  \n",
              "3           True        False                   True  False    False   False  \n",
              "4          False        False                  False  False    False   False  \n",
              "...          ...          ...                    ...    ...      ...     ...  \n",
              "129966      True        False                   True  False    False   False  \n",
              "129967     False        False                  False  False    False   False  \n",
              "129968      True        False                  False  False    False   False  \n",
              "129969      True        False                  False  False    False   False  \n",
              "129970      True        False                  False  False    False   False  \n",
              "\n",
              "[129971 rows x 13 columns]"
            ],
            "text/html": [
              "\n",
              "  <div id=\"df-3a283382-75e5-48d3-9e3d-fa272567dcc9\">\n",
              "    <div class=\"colab-df-container\">\n",
              "      <div>\n",
              "<style scoped>\n",
              "    .dataframe tbody tr th:only-of-type {\n",
              "        vertical-align: middle;\n",
              "    }\n",
              "\n",
              "    .dataframe tbody tr th {\n",
              "        vertical-align: top;\n",
              "    }\n",
              "\n",
              "    .dataframe thead th {\n",
              "        text-align: right;\n",
              "    }\n",
              "</style>\n",
              "<table border=\"1\" class=\"dataframe\">\n",
              "  <thead>\n",
              "    <tr style=\"text-align: right;\">\n",
              "      <th></th>\n",
              "      <th>country</th>\n",
              "      <th>description</th>\n",
              "      <th>designation</th>\n",
              "      <th>points</th>\n",
              "      <th>price</th>\n",
              "      <th>province</th>\n",
              "      <th>region_1</th>\n",
              "      <th>region_2</th>\n",
              "      <th>taster_name</th>\n",
              "      <th>taster_twitter_handle</th>\n",
              "      <th>title</th>\n",
              "      <th>variety</th>\n",
              "      <th>winery</th>\n",
              "    </tr>\n",
              "  </thead>\n",
              "  <tbody>\n",
              "    <tr>\n",
              "      <th>0</th>\n",
              "      <td>False</td>\n",
              "      <td>False</td>\n",
              "      <td>False</td>\n",
              "      <td>False</td>\n",
              "      <td>True</td>\n",
              "      <td>False</td>\n",
              "      <td>False</td>\n",
              "      <td>True</td>\n",
              "      <td>False</td>\n",
              "      <td>False</td>\n",
              "      <td>False</td>\n",
              "      <td>False</td>\n",
              "      <td>False</td>\n",
              "    </tr>\n",
              "    <tr>\n",
              "      <th>1</th>\n",
              "      <td>False</td>\n",
              "      <td>False</td>\n",
              "      <td>False</td>\n",
              "      <td>False</td>\n",
              "      <td>False</td>\n",
              "      <td>False</td>\n",
              "      <td>True</td>\n",
              "      <td>True</td>\n",
              "      <td>False</td>\n",
              "      <td>False</td>\n",
              "      <td>False</td>\n",
              "      <td>False</td>\n",
              "      <td>False</td>\n",
              "    </tr>\n",
              "    <tr>\n",
              "      <th>2</th>\n",
              "      <td>False</td>\n",
              "      <td>False</td>\n",
              "      <td>True</td>\n",
              "      <td>False</td>\n",
              "      <td>False</td>\n",
              "      <td>False</td>\n",
              "      <td>False</td>\n",
              "      <td>False</td>\n",
              "      <td>False</td>\n",
              "      <td>False</td>\n",
              "      <td>False</td>\n",
              "      <td>False</td>\n",
              "      <td>False</td>\n",
              "    </tr>\n",
              "    <tr>\n",
              "      <th>3</th>\n",
              "      <td>False</td>\n",
              "      <td>False</td>\n",
              "      <td>False</td>\n",
              "      <td>False</td>\n",
              "      <td>False</td>\n",
              "      <td>False</td>\n",
              "      <td>False</td>\n",
              "      <td>True</td>\n",
              "      <td>False</td>\n",
              "      <td>True</td>\n",
              "      <td>False</td>\n",
              "      <td>False</td>\n",
              "      <td>False</td>\n",
              "    </tr>\n",
              "    <tr>\n",
              "      <th>4</th>\n",
              "      <td>False</td>\n",
              "      <td>False</td>\n",
              "      <td>False</td>\n",
              "      <td>False</td>\n",
              "      <td>False</td>\n",
              "      <td>False</td>\n",
              "      <td>False</td>\n",
              "      <td>False</td>\n",
              "      <td>False</td>\n",
              "      <td>False</td>\n",
              "      <td>False</td>\n",
              "      <td>False</td>\n",
              "      <td>False</td>\n",
              "    </tr>\n",
              "    <tr>\n",
              "      <th>...</th>\n",
              "      <td>...</td>\n",
              "      <td>...</td>\n",
              "      <td>...</td>\n",
              "      <td>...</td>\n",
              "      <td>...</td>\n",
              "      <td>...</td>\n",
              "      <td>...</td>\n",
              "      <td>...</td>\n",
              "      <td>...</td>\n",
              "      <td>...</td>\n",
              "      <td>...</td>\n",
              "      <td>...</td>\n",
              "      <td>...</td>\n",
              "    </tr>\n",
              "    <tr>\n",
              "      <th>129966</th>\n",
              "      <td>False</td>\n",
              "      <td>False</td>\n",
              "      <td>False</td>\n",
              "      <td>False</td>\n",
              "      <td>False</td>\n",
              "      <td>False</td>\n",
              "      <td>True</td>\n",
              "      <td>True</td>\n",
              "      <td>False</td>\n",
              "      <td>True</td>\n",
              "      <td>False</td>\n",
              "      <td>False</td>\n",
              "      <td>False</td>\n",
              "    </tr>\n",
              "    <tr>\n",
              "      <th>129967</th>\n",
              "      <td>False</td>\n",
              "      <td>False</td>\n",
              "      <td>True</td>\n",
              "      <td>False</td>\n",
              "      <td>False</td>\n",
              "      <td>False</td>\n",
              "      <td>False</td>\n",
              "      <td>False</td>\n",
              "      <td>False</td>\n",
              "      <td>False</td>\n",
              "      <td>False</td>\n",
              "      <td>False</td>\n",
              "      <td>False</td>\n",
              "    </tr>\n",
              "    <tr>\n",
              "      <th>129968</th>\n",
              "      <td>False</td>\n",
              "      <td>False</td>\n",
              "      <td>False</td>\n",
              "      <td>False</td>\n",
              "      <td>False</td>\n",
              "      <td>False</td>\n",
              "      <td>False</td>\n",
              "      <td>True</td>\n",
              "      <td>False</td>\n",
              "      <td>False</td>\n",
              "      <td>False</td>\n",
              "      <td>False</td>\n",
              "      <td>False</td>\n",
              "    </tr>\n",
              "    <tr>\n",
              "      <th>129969</th>\n",
              "      <td>False</td>\n",
              "      <td>False</td>\n",
              "      <td>True</td>\n",
              "      <td>False</td>\n",
              "      <td>False</td>\n",
              "      <td>False</td>\n",
              "      <td>False</td>\n",
              "      <td>True</td>\n",
              "      <td>False</td>\n",
              "      <td>False</td>\n",
              "      <td>False</td>\n",
              "      <td>False</td>\n",
              "      <td>False</td>\n",
              "    </tr>\n",
              "    <tr>\n",
              "      <th>129970</th>\n",
              "      <td>False</td>\n",
              "      <td>False</td>\n",
              "      <td>False</td>\n",
              "      <td>False</td>\n",
              "      <td>False</td>\n",
              "      <td>False</td>\n",
              "      <td>False</td>\n",
              "      <td>True</td>\n",
              "      <td>False</td>\n",
              "      <td>False</td>\n",
              "      <td>False</td>\n",
              "      <td>False</td>\n",
              "      <td>False</td>\n",
              "    </tr>\n",
              "  </tbody>\n",
              "</table>\n",
              "<p>129971 rows × 13 columns</p>\n",
              "</div>\n",
              "      <button class=\"colab-df-convert\" onclick=\"convertToInteractive('df-3a283382-75e5-48d3-9e3d-fa272567dcc9')\"\n",
              "              title=\"Convert this dataframe to an interactive table.\"\n",
              "              style=\"display:none;\">\n",
              "        \n",
              "  <svg xmlns=\"http://www.w3.org/2000/svg\" height=\"24px\"viewBox=\"0 0 24 24\"\n",
              "       width=\"24px\">\n",
              "    <path d=\"M0 0h24v24H0V0z\" fill=\"none\"/>\n",
              "    <path d=\"M18.56 5.44l.94 2.06.94-2.06 2.06-.94-2.06-.94-.94-2.06-.94 2.06-2.06.94zm-11 1L8.5 8.5l.94-2.06 2.06-.94-2.06-.94L8.5 2.5l-.94 2.06-2.06.94zm10 10l.94 2.06.94-2.06 2.06-.94-2.06-.94-.94-2.06-.94 2.06-2.06.94z\"/><path d=\"M17.41 7.96l-1.37-1.37c-.4-.4-.92-.59-1.43-.59-.52 0-1.04.2-1.43.59L10.3 9.45l-7.72 7.72c-.78.78-.78 2.05 0 2.83L4 21.41c.39.39.9.59 1.41.59.51 0 1.02-.2 1.41-.59l7.78-7.78 2.81-2.81c.8-.78.8-2.07 0-2.86zM5.41 20L4 18.59l7.72-7.72 1.47 1.35L5.41 20z\"/>\n",
              "  </svg>\n",
              "      </button>\n",
              "      \n",
              "  <style>\n",
              "    .colab-df-container {\n",
              "      display:flex;\n",
              "      flex-wrap:wrap;\n",
              "      gap: 12px;\n",
              "    }\n",
              "\n",
              "    .colab-df-convert {\n",
              "      background-color: #E8F0FE;\n",
              "      border: none;\n",
              "      border-radius: 50%;\n",
              "      cursor: pointer;\n",
              "      display: none;\n",
              "      fill: #1967D2;\n",
              "      height: 32px;\n",
              "      padding: 0 0 0 0;\n",
              "      width: 32px;\n",
              "    }\n",
              "\n",
              "    .colab-df-convert:hover {\n",
              "      background-color: #E2EBFA;\n",
              "      box-shadow: 0px 1px 2px rgba(60, 64, 67, 0.3), 0px 1px 3px 1px rgba(60, 64, 67, 0.15);\n",
              "      fill: #174EA6;\n",
              "    }\n",
              "\n",
              "    [theme=dark] .colab-df-convert {\n",
              "      background-color: #3B4455;\n",
              "      fill: #D2E3FC;\n",
              "    }\n",
              "\n",
              "    [theme=dark] .colab-df-convert:hover {\n",
              "      background-color: #434B5C;\n",
              "      box-shadow: 0px 1px 3px 1px rgba(0, 0, 0, 0.15);\n",
              "      filter: drop-shadow(0px 1px 2px rgba(0, 0, 0, 0.3));\n",
              "      fill: #FFFFFF;\n",
              "    }\n",
              "  </style>\n",
              "\n",
              "      <script>\n",
              "        const buttonEl =\n",
              "          document.querySelector('#df-3a283382-75e5-48d3-9e3d-fa272567dcc9 button.colab-df-convert');\n",
              "        buttonEl.style.display =\n",
              "          google.colab.kernel.accessAllowed ? 'block' : 'none';\n",
              "\n",
              "        async function convertToInteractive(key) {\n",
              "          const element = document.querySelector('#df-3a283382-75e5-48d3-9e3d-fa272567dcc9');\n",
              "          const dataTable =\n",
              "            await google.colab.kernel.invokeFunction('convertToInteractive',\n",
              "                                                     [key], {});\n",
              "          if (!dataTable) return;\n",
              "\n",
              "          const docLinkHtml = 'Like what you see? Visit the ' +\n",
              "            '<a target=\"_blank\" href=https://colab.research.google.com/notebooks/data_table.ipynb>data table notebook</a>'\n",
              "            + ' to learn more about interactive tables.';\n",
              "          element.innerHTML = '';\n",
              "          dataTable['output_type'] = 'display_data';\n",
              "          await google.colab.output.renderOutput(dataTable, element);\n",
              "          const docLink = document.createElement('div');\n",
              "          docLink.innerHTML = docLinkHtml;\n",
              "          element.appendChild(docLink);\n",
              "        }\n",
              "      </script>\n",
              "    </div>\n",
              "  </div>\n",
              "  "
            ]
          },
          "metadata": {},
          "execution_count": 41
        }
      ]
    },
    {
      "cell_type": "markdown",
      "source": [
        "Выводим на экран названия столбцов, где число пропусков больше 0. \n",
        "\n",
        "Для этого вычислим средний по столбцам результат метода *isnull()*. Получим долю пропусков в каждом столбце.\n",
        "\n",
        "*True* — 1, *False* — 0, при расчёте среднего получим долю 1 от общего числа строк. \n",
        "Умножаем на 100 %, находим **столбцы**, где доля пропусков больше 0, сортируем по убыванию и выводим результат:"
      ],
      "metadata": {
        "id": "KSV92bl2f4j2"
      }
    },
    {
      "cell_type": "markdown",
      "source": [
        "Посмотрим на число записей:"
      ],
      "metadata": {
        "id": "t5khkfErlU78"
      }
    },
    {
      "cell_type": "code",
      "source": [
        "data.shape"
      ],
      "metadata": {
        "id": "nd5wsVGWlUEc",
        "outputId": "19b19d53-29e2-40eb-d2de-596b6306cbd4",
        "colab": {
          "base_uri": "https://localhost:8080/"
        }
      },
      "execution_count": null,
      "outputs": [
        {
          "output_type": "execute_result",
          "data": {
            "text/plain": [
              "(129971, 13)"
            ]
          },
          "metadata": {},
          "execution_count": 48
        }
      ]
    },
    {
      "cell_type": "code",
      "source": [
        "cols_null_percent = data.isnull().mean() * 100\n",
        "cols_with_null = cols_null_percent[cols_null_percent > 0.0000].sort_values(ascending=False)\n",
        "cols_null_percent"
      ],
      "metadata": {
        "id": "boMQWEqVgIoy",
        "outputId": "3d8abe86-9d81-4196-ea8d-43f9a6b4f186",
        "colab": {
          "base_uri": "https://localhost:8080/"
        }
      },
      "execution_count": null,
      "outputs": [
        {
          "output_type": "execute_result",
          "data": {
            "text/plain": [
              "country                   0.048472\n",
              "description               0.000000\n",
              "designation              28.825661\n",
              "points                    0.000000\n",
              "price                     6.921544\n",
              "province                  0.048472\n",
              "region_1                 16.347493\n",
              "region_2                 61.136715\n",
              "taster_name              20.192197\n",
              "taster_twitter_handle    24.015357\n",
              "title                     0.000000\n",
              "variety                   0.000769\n",
              "winery                    0.000000\n",
              "dtype: float64"
            ]
          },
          "metadata": {},
          "execution_count": 49
        }
      ]
    },
    {
      "cell_type": "markdown",
      "source": [
        "Итак, можно увидеть, что у нас большое число пропусков (более 61 %) в столбце *region_2* (конкретный регион в пределах винодельческой зоны). "
      ],
      "metadata": {
        "id": "Fc9tKsLYhscQ"
      }
    },
    {
      "cell_type": "code",
      "source": [
        "cols_with_null.plot(\n",
        "    kind='bar',\n",
        "    figsize=(10, 4),\n",
        "    title='Распределение пропусков в данных'\n",
        ");"
      ],
      "metadata": {
        "id": "Q55Ue8yBhcmu",
        "outputId": "6d5c557f-d2b5-42be-d590-c4859cb3c272",
        "colab": {
          "base_uri": "https://localhost:8080/",
          "height": 405
        }
      },
      "execution_count": null,
      "outputs": [
        {
          "output_type": "display_data",
          "data": {
            "text/plain": [
              "<Figure size 1000x400 with 1 Axes>"
            ],
            "image/png": "[encoded data removed]"
          },
          "metadata": {}
        }
      ]
    },
    {
      "cell_type": "markdown",
      "source": [
        "* Удаляем столбцы с числом пропусков более 30 %.\n",
        "* Удаляем записи, в которых более двух пропусков одновременно.\n",
        "* Заполним пропуски."
      ],
      "metadata": {
        "id": "1BtqJs1yi02I"
      }
    },
    {
      "cell_type": "code",
      "source": [
        "# оздаём копию исходной таблицы\n",
        "drop_data = data.copy()\n",
        "# число строк в таблице\n",
        "count = drop_data.shape[0]\n",
        "# отбрасываем столбцы с числом пропусков более 30% (100-70)\n",
        "min_drop = count * 0.7\n",
        "drop_data = drop_data.dropna(thresh=min_drop, axis=1)\n",
        "# число строк в таблице, где пропусков более 2-х в строке\n",
        "drop_two = drop_data.shape[1]\n",
        "# число признаков после удаления столбцов\n",
        "drop_data = drop_data.dropna(thresh=drop_two-2, axis=0)\n",
        "# создаём словарь 'имя_столбца': число (признак), на который надо заменить пропуски \n",
        "values = {\n",
        "    'country': drop_data['country'].fillna('US'),\n",
        "    'variety': drop_data['variety'].fillna('Pinot Noir'),\n",
        "    'regiion_2': 'unknown',\n",
        "    'designation': 'unknown',\n",
        "    'taster_twitter_handle': 'unknown',\n",
        "    'province': drop_data['province'].fillna('California'),\n",
        "    'region_1': 'unknown',\n",
        "    'taster_name': 'unknown',\n",
        "    'price': round(drop_data['price'].mean())\n",
        "}\n",
        "# заполняем пропуски в соответствии с заявленным словарем\n",
        "drop_data = drop_data.fillna(values)\n",
        "drop_data.isnull().mean()"
      ],
      "metadata": {
        "id": "tKO08K6UjTVF",
        "outputId": "a865cd18-5b27-4b31-a1ed-99e517906c41",
        "colab": {
          "base_uri": "https://localhost:8080/"
        }
      },
      "execution_count": null,
      "outputs": [
        {
          "output_type": "execute_result",
          "data": {
            "text/plain": [
              "country                  0.0\n",
              "description              0.0\n",
              "designation              0.0\n",
              "points                   0.0\n",
              "price                    0.0\n",
              "province                 0.0\n",
              "region_1                 0.0\n",
              "taster_name              0.0\n",
              "taster_twitter_handle    0.0\n",
              "title                    0.0\n",
              "variety                  0.0\n",
              "winery                   0.0\n",
              "dtype: float64"
            ]
          },
          "metadata": {},
          "execution_count": 60
        }
      ]
    },
    {
      "cell_type": "code",
      "source": [
        "# Посмотрим на результирующее число записей:\n",
        "drop_data.shape"
      ],
      "metadata": {
        "id": "rDdc89W0k9Wz",
        "outputId": "532c2fb5-e792-4299-ec04-a3525d03e05b",
        "colab": {
          "base_uri": "https://localhost:8080/"
        }
      },
      "execution_count": null,
      "outputs": [
        {
          "output_type": "execute_result",
          "data": {
            "text/plain": [
              "(119230, 12)"
            ]
          },
          "metadata": {},
          "execution_count": 61
        }
      ]
    },
    {
      "cell_type": "code",
      "source": [
        "# Убеждаемся, что датасет без пропусков\n",
        "sns.heatmap(drop_data.isnull()) "
      ],
      "metadata": {
        "id": "Okejj1NDBPMy",
        "outputId": "f51d563f-ecb9-4bad-8f45-fb682925f7e4",
        "colab": {
          "base_uri": "https://localhost:8080/",
          "height": 588
        }
      },
      "execution_count": null,
      "outputs": [
        {
          "output_type": "execute_result",
          "data": {
            "text/plain": [
              "<Axes: >"
            ]
          },
          "metadata": {},
          "execution_count": 65
        },
        {
          "output_type": "display_data",
          "data": {
            "text/plain": [
              "<Figure size 640x480 with 2 Axes>"
            ],
            "image/png": "[encoded data removed]"
          },
          "metadata": {}
        }
      ]
    },
    {
      "cell_type": "code",
      "source": [
        "# сохраняем очищенный датасет для дальнейшей работы\n",
        "df = drop_data.to_csv('wine_cleared.csv', index=False) "
      ],
      "metadata": {
        "id": "_uMZJ1lrBqrx"
      },
      "execution_count": null,
      "outputs": []
    }
  ],
  "metadata": {
    "kernelspec": {
      "display_name": "base",
      "language": "python",
      "name": "python3"
    },
    "language_info": {
      "name": "python",
      "version": "3.9.12"
    },
    "orig_nbformat": 4,
    "colab": {
      "provenance": [],
      "include_colab_link": true
    }
  },
  "nbformat": 4,
  "nbformat_minor": 0
}